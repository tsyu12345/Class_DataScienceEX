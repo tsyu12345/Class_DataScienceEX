{
 "cells": [
  {
   "cell_type": "code",
   "execution_count": 2,
   "metadata": {},
   "outputs": [
    {
     "name": "stdout",
     "output_type": "stream",
     "text": [
      "期待値 V = 6.999999999999999\n"
     ]
    }
   ],
   "source": [
    "ps = {\n",
    "    2: 1/36,\n",
    "    3: 2/36,\n",
    "    4: 3/36,\n",
    "    5: 4/36,\n",
    "    6: 5/36,\n",
    "    7: 6/36,\n",
    "    8: 5/36,\n",
    "    9: 4/36,\n",
    "    10: 3/36,\n",
    "    11: 2/36,\n",
    "    12: 1/36\n",
    "}\n",
    "\n",
    "V = 0.0\n",
    "for x, p in ps.items():\n",
    "    V += x*p\n",
    "\n",
    "print(f\"期待値 V = {V}\") #6.999...."
   ]
  },
  {
   "cell_type": "code",
   "execution_count": 3,
   "metadata": {},
   "outputs": [
    {
     "name": "stdout",
     "output_type": "stream",
     "text": [
      "期待値 V = 6.999999999999999999999999999\n"
     ]
    }
   ],
   "source": [
    "from decimal import Decimal\n",
    "\n",
    "ps = {\n",
    "    2: Decimal('1') / Decimal('36'),\n",
    "    3: Decimal('2') / Decimal('36'),\n",
    "    4: Decimal('3') / Decimal('36'),\n",
    "    5: Decimal('4') / Decimal('36'),\n",
    "    6: Decimal('5') / Decimal('36'),\n",
    "    7: Decimal('6') / Decimal('36'),\n",
    "    8: Decimal('5') / Decimal('36'),\n",
    "    9: Decimal('4') / Decimal('36'),\n",
    "    10: Decimal('3') / Decimal('36'),\n",
    "    11: Decimal('2') / Decimal('36'),\n",
    "    12: Decimal('1') / Decimal('36')\n",
    "}\n",
    "\n",
    "V = Decimal('0.0')\n",
    "for x, p in ps.items():\n",
    "    V += x*p\n",
    "\n",
    "print(f\"期待値 V = {V}\") \n",
    "\n"
   ]
  },
  {
   "cell_type": "code",
   "execution_count": 14,
   "metadata": {},
   "outputs": [
    {
     "data": {
      "text/plain": [
       "33"
      ]
     },
     "execution_count": 14,
     "metadata": {},
     "output_type": "execute_result"
    }
   ],
   "source": [
    "import numpy as np\n",
    "\n",
    "def sample(dices: int=1) -> int:\n",
    "    \"\"\"\n",
    "    Args:\n",
    "        dices(int): さいころの数\n",
    "    Returns:\n",
    "        int: さいころの目の合計\n",
    "    \"\"\"\n",
    "    dice = [1, 2, 3, 4, 5, 6]\n",
    "    sum = 0\n",
    "    for _ in range(dices):\n",
    "        sum += np.random.choice(dice)\n",
    "    return sum\n",
    "\n",
    "sample(2) #3, 7, 8 etc..2~12までランダムに出力される\n",
    "\n",
    "sample(3)\n",
    "sample(4)\n",
    "...\n",
    "sample(10)"
   ]
  }
 ],
 "metadata": {
  "kernelspec": {
   "display_name": ".venv",
   "language": "python",
   "name": "python3"
  },
  "language_info": {
   "codemirror_mode": {
    "name": "ipython",
    "version": 3
   },
   "file_extension": ".py",
   "mimetype": "text/x-python",
   "name": "python",
   "nbconvert_exporter": "python",
   "pygments_lexer": "ipython3",
   "version": "3.12.1"
  }
 },
 "nbformat": 4,
 "nbformat_minor": 2
}
