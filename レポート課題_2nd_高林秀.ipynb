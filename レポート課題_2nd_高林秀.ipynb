{
 "cells": [
  {
   "cell_type": "code",
   "execution_count": 1,
   "id": "d0bd29d5",
   "metadata": {},
   "outputs": [],
   "source": [
    "import pandas as pd"
   ]
  },
  {
   "cell_type": "code",
   "execution_count": 2,
   "id": "6450e482",
   "metadata": {},
   "outputs": [],
   "source": [
    "df_num = pd.read_html('https://baseballdata.jp/2023/mdata/doin.html')"
   ]
  },
  {
   "cell_type": "markdown",
   "id": "876acb8c",
   "metadata": {},
   "source": [
    "## 【レポート課題①】：df_num[0]の順位が偶数のみの全ての情報を抽出 "
   ]
  },
  {
   "cell_type": "code",
   "execution_count": 5,
   "id": "d6983135",
   "metadata": {},
   "outputs": [
    {
     "data": {
      "text/html": [
       "<div>\n",
       "<style scoped>\n",
       "    .dataframe tbody tr th:only-of-type {\n",
       "        vertical-align: middle;\n",
       "    }\n",
       "\n",
       "    .dataframe tbody tr th {\n",
       "        vertical-align: top;\n",
       "    }\n",
       "\n",
       "    .dataframe thead th {\n",
       "        text-align: right;\n",
       "    }\n",
       "</style>\n",
       "<table border=\"1\" class=\"dataframe\">\n",
       "  <thead>\n",
       "    <tr style=\"text-align: right;\">\n",
       "      <th></th>\n",
       "      <th>順位</th>\n",
       "      <th>チーム</th>\n",
       "      <th>試合数</th>\n",
       "      <th>観客動員数累計</th>\n",
       "      <th>平均動員数</th>\n",
       "      <th>最高動員数</th>\n",
       "      <th>最小動員数</th>\n",
       "      <th>平均試合時間</th>\n",
       "      <th>最長試合時間</th>\n",
       "      <th>最短試合時間</th>\n",
       "    </tr>\n",
       "  </thead>\n",
       "  <tbody>\n",
       "    <tr>\n",
       "      <th>1</th>\n",
       "      <td>2</td>\n",
       "      <td>巨人</td>\n",
       "      <td>71</td>\n",
       "      <td>2708315</td>\n",
       "      <td>38145</td>\n",
       "      <td>41630</td>\n",
       "      <td>8069</td>\n",
       "      <td>3:09</td>\n",
       "      <td>4:44</td>\n",
       "      <td>1:43</td>\n",
       "    </tr>\n",
       "    <tr>\n",
       "      <th>3</th>\n",
       "      <td>4</td>\n",
       "      <td>DeNA</td>\n",
       "      <td>71</td>\n",
       "      <td>2280927</td>\n",
       "      <td>32126</td>\n",
       "      <td>33304</td>\n",
       "      <td>19710</td>\n",
       "      <td>3:11</td>\n",
       "      <td>4:53</td>\n",
       "      <td>2:06</td>\n",
       "    </tr>\n",
       "    <tr>\n",
       "      <th>5</th>\n",
       "      <td>6</td>\n",
       "      <td>広島</td>\n",
       "      <td>72</td>\n",
       "      <td>2054762</td>\n",
       "      <td>28538</td>\n",
       "      <td>31269</td>\n",
       "      <td>20935</td>\n",
       "      <td>3:13</td>\n",
       "      <td>5:01</td>\n",
       "      <td>1:53</td>\n",
       "    </tr>\n",
       "    <tr>\n",
       "      <th>7</th>\n",
       "      <td>8</td>\n",
       "      <td>オリックス</td>\n",
       "      <td>72</td>\n",
       "      <td>1947453</td>\n",
       "      <td>27048</td>\n",
       "      <td>35996</td>\n",
       "      <td>13837</td>\n",
       "      <td>3:07</td>\n",
       "      <td>4:20</td>\n",
       "      <td>2:10</td>\n",
       "    </tr>\n",
       "    <tr>\n",
       "      <th>9</th>\n",
       "      <td>10</td>\n",
       "      <td>ロッテ</td>\n",
       "      <td>72</td>\n",
       "      <td>1803994</td>\n",
       "      <td>25055</td>\n",
       "      <td>37095</td>\n",
       "      <td>15410</td>\n",
       "      <td>3:08</td>\n",
       "      <td>5:07</td>\n",
       "      <td>2:14</td>\n",
       "    </tr>\n",
       "    <tr>\n",
       "      <th>11</th>\n",
       "      <td>12</td>\n",
       "      <td>楽天</td>\n",
       "      <td>72</td>\n",
       "      <td>1358512</td>\n",
       "      <td>18868</td>\n",
       "      <td>40502</td>\n",
       "      <td>9912</td>\n",
       "      <td>3:17</td>\n",
       "      <td>4:56</td>\n",
       "      <td>2:10</td>\n",
       "    </tr>\n",
       "  </tbody>\n",
       "</table>\n",
       "</div>"
      ],
      "text/plain": [
       "    順位    チーム  試合数  観客動員数累計  平均動員数  最高動員数  最小動員数 平均試合時間 最長試合時間 最短試合時間\n",
       "1    2     巨人   71  2708315  38145  41630   8069   3:09   4:44   1:43\n",
       "3    4   DeNA   71  2280927  32126  33304  19710   3:11   4:53   2:06\n",
       "5    6     広島   72  2054762  28538  31269  20935   3:13   5:01   1:53\n",
       "7    8  オリックス   72  1947453  27048  35996  13837   3:07   4:20   2:10\n",
       "9   10    ロッテ   72  1803994  25055  37095  15410   3:08   5:07   2:14\n",
       "11  12     楽天   72  1358512  18868  40502   9912   3:17   4:56   2:10"
      ]
     },
     "execution_count": 5,
     "metadata": {},
     "output_type": "execute_result"
    }
   ],
   "source": [
    "ranking_df = df_num[0]\n",
    "ranking_df = ranking_df[ranking_df['順位'] % 2 == 0]\n",
    "ranking_df"
   ]
  },
  {
   "cell_type": "code",
   "execution_count": null,
   "id": "bc4cdc8f",
   "metadata": {},
   "outputs": [],
   "source": []
  },
  {
   "cell_type": "code",
   "execution_count": 7,
   "id": "a1dba127",
   "metadata": {},
   "outputs": [],
   "source": [
    "list1 = [9,3,5,2,8,4,6,10,1,7]"
   ]
  },
  {
   "cell_type": "markdown",
   "id": "877217c8",
   "metadata": {},
   "source": [
    "## 【レポート課題②】：forループを使い、list1のインデックス番号と対応する要素を順番に表示する"
   ]
  },
  {
   "cell_type": "code",
   "execution_count": 8,
   "id": "ef4da418",
   "metadata": {},
   "outputs": [
    {
     "name": "stdout",
     "output_type": "stream",
     "text": [
      "0 9\n",
      "1 3\n",
      "2 5\n",
      "3 2\n",
      "4 8\n",
      "5 4\n",
      "6 6\n",
      "7 10\n",
      "8 1\n",
      "9 7\n"
     ]
    }
   ],
   "source": [
    "for idx, elm in enumerate(list1):\n",
    "    print(idx, elm)"
   ]
  },
  {
   "cell_type": "code",
   "execution_count": null,
   "id": "5b9df89e",
   "metadata": {},
   "outputs": [],
   "source": []
  },
  {
   "cell_type": "markdown",
   "id": "9e0a17a7",
   "metadata": {},
   "source": [
    "## 【レポート課題③】：forループとcontinueを使い、3,6の時は表示せず、偶数の時は値を二乗し、list1を表示する"
   ]
  },
  {
   "cell_type": "code",
   "execution_count": 10,
   "id": "eed469f4",
   "metadata": {},
   "outputs": [
    {
     "name": "stdout",
     "output_type": "stream",
     "text": [
      "9 9\n",
      "5 5\n",
      "2 4\n",
      "8 64\n",
      "4 16\n",
      "10 100\n",
      "1 1\n",
      "7 7\n"
     ]
    }
   ],
   "source": [
    "for num in list1:\n",
    "    if num == 3 or num == 6:\n",
    "        continue\n",
    "    \n",
    "    n = num ** 2 if num % 2 == 0 else num\n",
    "    print(num, n)"
   ]
  },
  {
   "cell_type": "code",
   "execution_count": null,
   "id": "44b86ab0",
   "metadata": {},
   "outputs": [],
   "source": []
  },
  {
   "cell_type": "code",
   "execution_count": null,
   "id": "d176f764",
   "metadata": {},
   "outputs": [],
   "source": []
  },
  {
   "cell_type": "code",
   "execution_count": null,
   "id": "be4a1c70",
   "metadata": {},
   "outputs": [],
   "source": []
  },
  {
   "cell_type": "code",
   "execution_count": null,
   "id": "188be61a",
   "metadata": {},
   "outputs": [],
   "source": []
  }
 ],
 "metadata": {
  "kernelspec": {
   "display_name": "Python 3 (ipykernel)",
   "language": "python",
   "name": "python3"
  },
  "language_info": {
   "codemirror_mode": {
    "name": "ipython",
    "version": 3
   },
   "file_extension": ".py",
   "mimetype": "text/x-python",
   "name": "python",
   "nbconvert_exporter": "python",
   "pygments_lexer": "ipython3",
   "version": "3.12.1"
  }
 },
 "nbformat": 4,
 "nbformat_minor": 5
}
